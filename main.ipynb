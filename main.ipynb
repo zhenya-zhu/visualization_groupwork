{
 "cells": [
  {
   "cell_type": "code",
   "execution_count": 2,
   "id": "77860ab9-24ec-434d-a581-5a18b3eab133",
   "metadata": {},
   "outputs": [
    {
     "name": "stdout",
     "output_type": "stream",
     "text": [
      "[(7, 8, 'Atmosfear', 'Coaster Alley', 'Thrill Rides\\r', 'Outdoor Coaster')]\n"
     ]
    }
   ],
   "source": [
    "import sqlite3\n",
    "%matplotlib inline\n",
    "import matplotlib.pyplot as plt\n",
    "import pandas as pd\n",
    "import numpy as np\n",
    "\n",
    "conn = sqlite3.connect('./adult.data')\n",
    "cursor = conn.cursor()\n",
    "\n",
    "query = \"select * from attraction where name='Atmosfear'\"\n",
    "cursor.execute(query)  \n",
    "results = cursor.fetchall()\n",
    "print(results)\n"
   ]
  },
  {
   "cell_type": "code",
   "execution_count": null,
   "id": "43a854f0-57b3-4133-8577-5d81632233c9",
   "metadata": {},
   "outputs": [],
   "source": []
  }
 ],
 "metadata": {
  "kernelspec": {
   "display_name": "Python 3 (ipykernel)",
   "language": "python",
   "name": "python3"
  },
  "language_info": {
   "codemirror_mode": {
    "name": "ipython",
    "version": 3
   },
   "file_extension": ".py",
   "mimetype": "text/x-python",
   "name": "python",
   "nbconvert_exporter": "python",
   "pygments_lexer": "ipython3",
   "version": "3.9.16"
  }
 },
 "nbformat": 4,
 "nbformat_minor": 5
}
